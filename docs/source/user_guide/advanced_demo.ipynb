{
 "cells": [
  {
   "cell_type": "markdown",
   "id": "4f54c2a2",
   "metadata": {
    "pycharm": {
     "name": "#%% md\n"
    }
   },
   "source": [
    "# Advanced features\n",
    "\n",
    "This tutorial covers usage of advanced features of ReservoirPy for Reservoir Computing architectures:\n",
    "\n",
    "- Input-to-readout connections and other complicated connections\n",
    "- Feedback connections\n",
    "- Generation and long term forecasting\n",
    "- Custom weight matrices\n",
    "- Parallelization\n",
    "- \"Deep\" architectures\n",
    "\n",
    "To go further, the [examples/](https://github.com/reservoirpy/reservoirpy/tree/master/examples) folder of ReservoirPy GitHub repository contains example of complex use cases from the literature."
   ]
  },
  {
   "cell_type": "code",
   "execution_count": 1,
   "id": "0d2443fc",
   "metadata": {
    "pycharm": {
     "name": "#%%\n"
    }
   },
   "outputs": [],
   "source": [
    "import reservoirpy as rpy\n",
    "\n",
    "rpy.verbosity(0)  # no need to be too verbose here\n",
    "rpy.set_seed(42)  # make everything reproducible!"
   ]
  },
  {
   "cell_type": "markdown",
   "id": "2fc77e03",
   "metadata": {
    "pycharm": {
     "name": "#%% md\n"
    }
   },
   "source": [
    "During this tutorial, we will be using the same task as introduced in the \"Getting started\" tutorial: we create 100 samples of a sine wave, and divide these 100 timesteps between a 50 timesteps training timeseries and 50 timesteps testing timeseries."
   ]
  },
  {
   "cell_type": "code",
   "execution_count": 2,
   "id": "b560ac9a",
   "metadata": {
    "pycharm": {
     "name": "#%%\n"
    }
   },
   "outputs": [
    {
     "data": {
      "image/png": "[encoded data removed]",
      "text/plain": [
       "<Figure size 720x216 with 1 Axes>"
      ]
     },
     "metadata": {
      "needs_background": "light"
     },
     "output_type": "display_data"
    }
   ],
   "source": [
    "import numpy as np\n",
    "import matplotlib.pyplot as plt\n",
    "\n",
    "X = np.sin(np.linspace(0, 6*np.pi, 100)).reshape(-1, 1)\n",
    "\n",
    "X_train = X[:50]\n",
    "Y_train = X[1:51]\n",
    "\n",
    "plt.figure(figsize=(10, 3))\n",
    "plt.title(\"A sine wave.\")\n",
    "plt.ylabel(\"$sin(t)$\")\n",
    "plt.xlabel(\"$t$\")\n",
    "plt.plot(X)\n",
    "plt.show()"
   ]
  },
  {
   "cell_type": "markdown",
   "id": "6b1f9975",
   "metadata": {
    "pycharm": {
     "name": "#%% md\n"
    }
   },
   "source": [
    "## Input-to-readout connections\n",
    "\n",
    "More advanced ESNs may include direct connections from input to readout. This can be achieved using the `Input` node and advanced features of model creation: connection chaining with the `>>` operator and connection merge using the `&` operator."
   ]
  },
  {
   "cell_type": "code",
   "execution_count": 3,
   "id": "2ace1eb4",
   "metadata": {
    "pycharm": {
     "name": "#%%\n"
    }
   },
   "outputs": [],
   "source": [
    "from reservoirpy.nodes import Reservoir, Ridge, Input\n",
    "\n",
    "data = Input()\n",
    "reservoir = Reservoir(100, lr=0.5, sr=0.9)\n",
    "readout = Ridge(ridge=1e-7)\n",
    "\n",
    "esn_model = data >> reservoir >> readout & data >> readout"
   ]
  },
  {
   "cell_type": "markdown",
   "id": "ad0c3ced",
   "metadata": {
    "pycharm": {
     "name": "#%% md\n"
    }
   },
   "source": [
    "The `&` operator can be used to merge two Model together.\n",
    "Here, we first connect the input to the reservoir and the reservoir to the readout. As models are a subclass of nodes, it is also possible to apply the `>>` on models, allowing chaining. When a model is connected to a node, all output nodes of the model are automatically connected to the node. A new model storing all the nodes involved in the process, along with all their connections, is created.\n",
    "\n",
    "```python\n",
    "connection_1 = data >> reservoir >> readout\n",
    "\n",
    "```\n",
    "\n",
    "Then, we define another model connecting the input to the readout.\n",
    "\n",
    "```python\n",
    "connection_2 = data >> readout\n",
    "```\n",
    "\n",
    "Finally, we merge all connections into a single model:\n",
    "\n",
    "```python\n",
    "esn_model = connection_1 & connection_2\n",
    "```"
   ]
  },
  {
   "cell_type": "markdown",
   "id": "3fd5a77b",
   "metadata": {
    "pycharm": {
     "name": "#%% md\n"
    }
   },
   "source": [
    "A same model can be obtained using another syntax, taking advantage of many-to-one and one-to-many connections. These type of connections are created using iterables of nodes:"
   ]
  },
  {
   "cell_type": "code",
   "execution_count": 4,
   "id": "19546020",
   "metadata": {
    "pycharm": {
     "name": "#%%\n"
    }
   },
   "outputs": [],
   "source": [
    "esn_model = [data, data >> reservoir] >> readout"
   ]
  },
  {
   "cell_type": "markdown",
   "id": "1fca0b7d",
   "metadata": {
    "pycharm": {
     "name": "#%% md\n"
    }
   },
   "source": [
    "In that case, we plug two models into the readout: `data` alone and `data >> reservoir`. This is equivalent to the syntax of the first example.\n",
    "\n",
    "Note that most nodes can not receive several inputs at once. It is the case of our readout node here. To tackle this problem, many-to-one connections will automatically trigger the creation of a special `Concat` node. This node will concatenate all incoming vectors before feeding them to the receiver node, here the readout.\n",
    "\n",
    "Our `esn_model` hence have 4 nodes, and not 3:"
   ]
  },
  {
   "cell_type": "code",
   "execution_count": 5,
   "id": "dd665838",
   "metadata": {
    "pycharm": {
     "name": "#%%\n"
    }
   },
   "outputs": [
    {
     "data": {
      "text/plain": [
       "['Input-0', 'Reservoir-0', 'Concat-0', 'Ridge-0']"
      ]
     },
     "execution_count": 5,
     "metadata": {},
     "output_type": "execute_result"
    }
   ],
   "source": [
    "esn_model.node_names"
   ]
  },
  {
   "cell_type": "markdown",
   "id": "02e1e33f",
   "metadata": {
    "pycharm": {
     "name": "#%% md\n"
    }
   },
   "source": [
    "It is possible to explicitly create this model using the `Concat` node:"
   ]
  },
  {
   "cell_type": "code",
   "execution_count": 6,
   "id": "57c041ce",
   "metadata": {
    "pycharm": {
     "name": "#%%\n"
    }
   },
   "outputs": [],
   "source": [
    "from reservoirpy.nodes import Reservoir, Ridge, Input, Concat\n",
    "\n",
    "data = Input()\n",
    "reservoir = Reservoir(100, lr=0.5, sr=0.9)\n",
    "readout = Ridge(ridge=1e-7)\n",
    "concatenate = Concat()\n",
    "\n",
    "esn_model = [data, data >> reservoir] >> concatenate >> readout"
   ]
  },
  {
   "cell_type": "code",
   "execution_count": 7,
   "id": "34c80a33",
   "metadata": {
    "pycharm": {
     "name": "#%%\n"
    }
   },
   "outputs": [
    {
     "data": {
      "text/plain": [
       "['Input-1', 'Reservoir-1', 'Concat-1', 'Ridge-1']"
      ]
     },
     "execution_count": 7,
     "metadata": {},
     "output_type": "execute_result"
    }
   ],
   "source": [
    "esn_model.node_names"
   ]
  },
  {
   "cell_type": "markdown",
   "id": "ef6c0ec4",
   "metadata": {
    "pycharm": {
     "name": "#%% md\n"
    }
   },
   "source": [
    "## Feedback connections\n",
    "\n",
    "Feedback connections are another important feature of ESNs. All nodes in ReservoirPy can be connected through feedback connections. Once a feedback connection is established between two nodes, the feedback receiver can access the state of the feedback sender anytime. When running on a timeseries, **this access will hence allow the receiver to access the state of the sender, with a time delay of one timestep**.\n",
    "\n",
    "To declare a feedback connection between two nodes, you can use the `<<` operator. This operator will create a copy of the receiver holding a reference to the sender. If you do not want to copy the receiver, use the in-place operator `<<=`.\n",
    "\n",
    "Let's add a feedback connection between our readout and our reservoir. This way, the reservoir will have access to the readout's last activation using the `feedback()` method:"
   ]
  },
  {
   "cell_type": "code",
   "execution_count": 8,
   "id": "1c7bf09d",
   "metadata": {
    "pycharm": {
     "name": "#%%\n"
    }
   },
   "outputs": [],
   "source": [
    "from reservoirpy.nodes import Reservoir, Ridge\n",
    "\n",
    "reservoir = Reservoir(100, lr=0.5, sr=0.9)\n",
    "readout = Ridge(ridge=1e-7)\n",
    "\n",
    "reservoir <<= readout\n",
    "\n",
    "esn_model = reservoir >> readout"
   ]
  },
  {
   "cell_type": "markdown",
   "id": "b8bc73df",
   "metadata": {
    "pycharm": {
     "name": "#%% md\n"
    }
   },
   "source": [
    "Once all nodes are initialized - after training the model for instance - feedback is available:"
   ]
  },
  {
   "cell_type": "code",
   "execution_count": 9,
   "id": "93cc36fd",
   "metadata": {
    "pycharm": {
     "name": "#%%\n"
    }
   },
   "outputs": [],
   "source": [
    "esn_model = esn_model.fit(X_train, Y_train)"
   ]
  },
  {
   "cell_type": "code",
   "execution_count": 10,
   "id": "6e72e645",
   "metadata": {
    "pycharm": {
     "name": "#%%\n"
    }
   },
   "outputs": [
    {
     "name": "stdout",
     "output_type": "stream",
     "text": [
      "Feedback received (reservoir): [[-0.24410469]]\n",
      "State sent: (readout): [[-0.24410469]]\n"
     ]
    }
   ],
   "source": [
    "esn_model(X[0].reshape(1, -1))\n",
    "\n",
    "print(\"Feedback received (reservoir):\", reservoir.feedback())\n",
    "print(\"State sent: (readout):\", readout.state())"
   ]
  },
  {
   "cell_type": "markdown",
   "id": "5f07fbe3",
   "metadata": {
    "pycharm": {
     "name": "#%% md\n"
    }
   },
   "source": [
    "### Forced feedbacks"
   ]
  },
  {
   "cell_type": "markdown",
   "id": "15e4311b",
   "metadata": {
    "pycharm": {
     "name": "#%% md\n"
    }
   },
   "source": [
    "Note that adding feedback may slightly change the training procedure. In most cases, we need **teacher forcing** to obtain convergence: teacher vectors $Y$ are used as feedback for the reservoir while readout is not trained.\n",
    "\n",
    "This behavior can be modified using the `force_teachers` parameter of the `Model.fit()` method:"
   ]
  },
  {
   "cell_type": "code",
   "execution_count": 11,
   "id": "c1a0bb0d",
   "metadata": {
    "pycharm": {
     "name": "#%%\n"
    }
   },
   "outputs": [],
   "source": [
    "esn_model = esn_model.fit(X_train, Y_train, force_teachers=True)  # by default"
   ]
  },
  {
   "cell_type": "markdown",
   "id": "e36cfa1b",
   "metadata": {
    "pycharm": {
     "name": "#%% md\n"
    }
   },
   "source": [
    "Feedback may also change the behavior of the `run()` method of models. Indeed, if feedback senders like readouts are not available at run time, it might be necessary to provide a feedback timeseries to the receiver node to replace the missing feedback signal. This can be done using the `forced_feedback` parameter of the `Model.run()` method:"
   ]
  },
  {
   "cell_type": "code",
   "execution_count": 12,
   "id": "992f927a",
   "metadata": {
    "pycharm": {
     "name": "#%%\n"
    }
   },
   "outputs": [],
   "source": [
    "pred = esn_model.run(X_train, forced_feedbacks=Y_train, shift_fb=True)"
   ]
  },
  {
   "cell_type": "markdown",
   "id": "54825430",
   "metadata": {
    "pycharm": {
     "name": "#%% md\n"
    }
   },
   "source": [
    "Pay also attention to the `shift_fb` parameter. This parameter indicates that the forced feedback timeseries should be shifted in time by one timestep. In the code above, `Y_train` is a timeseries of same shape as `X_train`. But teacher values in `Y_train` should not be received by the reservoir *at the same time* as inputs from `X_train`. These values are supposed to be feedbacks, and therefore need to be received *one timesteps after the corresponding input*. To enforce this behavior, we set the `shift_fb` parameter to `True`.\n",
    "\n",
    "Finally, you can also use the `with_feedback()` context manager to change the feedback received by a node anytime. This context manager acts the same way as the `with_state()` context manager described in the \"Getting started\" tutorial. It can be either used on the feedback sender or receiver, and only requires them to be initialized."
   ]
  },
  {
   "cell_type": "code",
   "execution_count": 13,
   "id": "7a67690f",
   "metadata": {
    "pycharm": {
     "name": "#%%\n"
    }
   },
   "outputs": [],
   "source": [
    "random_feedback = np.random.normal(0, 1, size=(1, readout.output_dim))\n",
    "\n",
    "with reservoir.with_feedback(random_feedback):\n",
    "    reservoir(X[0].reshape(1, -1))"
   ]
  },
  {
   "cell_type": "markdown",
   "id": "77fda069",
   "metadata": {
    "pycharm": {
     "name": "#%% md\n"
    }
   },
   "source": [
    "## Generation and long term forecasting\n",
    "\n",
    "In this section, we will see how to use ReservoirPy nodes and models to perform long term forecasting or timeseries generation.\n",
    "\n",
    "We will take a simple ESN as an example:"
   ]
  },
  {
   "cell_type": "code",
   "execution_count": 14,
   "id": "639a4bc4",
   "metadata": {
    "pycharm": {
     "name": "#%%\n"
    }
   },
   "outputs": [],
   "source": [
    "from reservoirpy.nodes import Reservoir, Ridge\n",
    "\n",
    "reservoir = Reservoir(100, lr=0.5, sr=0.9)\n",
    "ridge = Ridge(ridge=1e-7)\n",
    "\n",
    "esn_model = reservoir >> ridge"
   ]
  },
  {
   "cell_type": "markdown",
   "id": "a704abb2",
   "metadata": {
    "pycharm": {
     "name": "#%% md\n"
    }
   },
   "source": [
    "Imagine that we now desire to predict the 100 next steps of the timeseries, given its 10 last steps.\n",
    "\n",
    "In order to achieve this kind of prediction with an ESN, we first train the model on the simple one-timestep-ahead prediction task defined in the sections above:"
   ]
  },
  {
   "cell_type": "code",
   "execution_count": 15,
   "id": "6ba41ead",
   "metadata": {
    "pycharm": {
     "name": "#%%\n"
    }
   },
   "outputs": [],
   "source": [
    "esn_model = esn_model.fit(X_train, Y_train, warmup=10)"
   ]
  },
  {
   "cell_type": "markdown",
   "id": "4fc44881",
   "metadata": {
    "pycharm": {
     "name": "#%% md\n"
    }
   },
   "source": [
    "Now that our ESN is trained on that simple task, we reset its internal state and feed it with the 10 last steps of the training timeseries."
   ]
  },
  {
   "cell_type": "code",
   "execution_count": 16,
   "id": "c951182a",
   "metadata": {
    "pycharm": {
     "name": "#%%\n"
    }
   },
   "outputs": [],
   "source": [
    "warmup_y = esn_model.run(X_train[-10:], reset=True)"
   ]
  },
  {
   "cell_type": "markdown",
   "id": "e727630d",
   "metadata": {
    "pycharm": {
     "name": "#%% md\n"
    }
   },
   "source": [
    "This updated the state of the reservoir inside the ESN to some value. We assume that this value is representative of the dynamics of these 10 timesteps.\n",
    "\n",
    "Based on this state, we will now predict the next step in the timeseries. Then, this predicted step will be fed to the ESN again, and so on 100 times, to generate the 100 following timesteps. In other words, the ESN is running over its own predictions."
   ]
  },
  {
   "cell_type": "code",
   "execution_count": 17,
   "id": "3b01685b",
   "metadata": {
    "pycharm": {
     "name": "#%%\n"
    }
   },
   "outputs": [],
   "source": [
    "Y_pred = np.empty((100, 1))\n",
    "x = warmup_y[-1].reshape(1, -1)\n",
    "\n",
    "for i in range(100):\n",
    "    x = esn_model(x)\n",
    "    Y_pred[i] = x"
   ]
  },
  {
   "cell_type": "code",
   "execution_count": 18,
   "id": "d54e36bb",
   "metadata": {
    "pycharm": {
     "name": "#%%\n"
    }
   },
   "outputs": [
    {
     "data": {
      "image/png": "[encoded data removed]",
      "text/plain": [
       "<Figure size 720x216 with 1 Axes>"
      ]
     },
     "metadata": {
      "needs_background": "light"
     },
     "output_type": "display_data"
    }
   ],
   "source": [
    "plt.figure(figsize=(10, 3))\n",
    "plt.title(\"100 timesteps of a sine wave.\")\n",
    "plt.xlabel(\"$t$\")\n",
    "plt.plot(Y_pred, label=\"Generated sin(t)\")\n",
    "plt.legend()\n",
    "plt.show()"
   ]
  },
  {
   "cell_type": "markdown",
   "id": "d024d5f3",
   "metadata": {
    "pycharm": {
     "name": "#%% md\n"
    }
   },
   "source": [
    "The long term forecasting ability of ESNs are one of their most impressive features. You have seen in this section how to perform this kind of generative task using a for-loop and an ESN call method."
   ]
  },
  {
   "cell_type": "markdown",
   "id": "b41c8016",
   "metadata": {
    "pycharm": {
     "name": "#%% md\n"
    }
   },
   "source": [
    "## Custom weight matrices\n",
    "\n",
    "### From custom initializer functions\n",
    "\n",
    "Readouts and reservoirs hold parameters stored as Numpy array or Scipy sparse matrices. These parameters can be initialized at first run of the node. This initialization is performed by calling initializer functions, which take as parameters the shape of the parameter matrix and return an array or a Scipy matrix. Initializer functions can be passed as parameter to reservoirs or readouts:"
   ]
  },
  {
   "cell_type": "code",
   "execution_count": 19,
   "id": "45dd17b8",
   "metadata": {
    "pycharm": {
     "name": "#%%\n"
    }
   },
   "outputs": [
    {
     "data": {
      "image/png": "[encoded data removed]",
      "text/plain": [
       "<Figure size 360x360 with 1 Axes>"
      ]
     },
     "metadata": {
      "needs_background": "light"
     },
     "output_type": "display_data"
    }
   ],
   "source": [
    "from reservoirpy.nodes import Reservoir\n",
    "\n",
    "def normal_w(n, m, **kwargs):\n",
    "    return np.random.normal(0, 1, size=(n, m))\n",
    "\n",
    "reservoir = Reservoir(100, W=normal_w)\n",
    "\n",
    "reservoir(X[0].reshape(1, -1))\n",
    "\n",
    "plt.figure(figsize=(5, 5))\n",
    "plt.title(\"Weights distribution in $W$\")\n",
    "plt.hist(reservoir.W.ravel(), bins=50)\n",
    "plt.show()"
   ]
  },
  {
   "cell_type": "markdown",
   "id": "f066e7b8",
   "metadata": {
    "pycharm": {
     "name": "#%% md\n"
    }
   },
   "source": [
    "### From reservoirpy.mat_gen module\n",
    "\n",
    "The `reservoirpy.mat_gen` module contains ready-to-use initializers able to create weights from any `scipy.stats` distribution, along with some more specialized initializations functions.\n",
    "\n",
    "Below are some examples:"
   ]
  },
  {
   "cell_type": "code",
   "execution_count": 20,
   "id": "77a89330",
   "metadata": {
    "pycharm": {
     "name": "#%%\n"
    }
   },
   "outputs": [],
   "source": [
    "from reservoirpy.mat_gen import random_sparse\n",
    "\n",
    "# Random sparse matrix initializer from uniform distribution,\n",
    "# with spectral radius to 0.9 and connectivity of 0.1.\n",
    "\n",
    "# Matrix creation can be delayed...\n",
    "initializer = random_sparse(\n",
    "    dist=\"uniform\", sr=0.9, connectivity=0.1)\n",
    "matrix = initializer(100, 100)\n",
    "\n",
    "# ...or can be performed right away.\n",
    "matrix = random_sparse(\n",
    "    100, 100, dist=\"uniform\", sr=0.9, connectivity=0.1)\n",
    "\n",
    "from reservoirpy.mat_gen import normal\n",
    "\n",
    "# Dense matrix from Gaussian distribution,\n",
    "# with mean of 0 and variance of 0.5\n",
    "matrix = normal(50, 100, loc=0, scale=0.5)\n",
    "\n",
    "from reservoirpy.mat_gen import uniform\n",
    "\n",
    "# Sparse matrix from uniform distribution in [-0.5, 0.5],\n",
    "# with connectivity of 0.9 and input_scaling of 0.3.\n",
    "matrix = uniform(\n",
    "    200, 60, low=0.5, high=0.5,\n",
    "    connectivity=0.9, input_scaling=0.3)\n",
    "\n",
    "from reservoirpy.mat_gen import bernoulli\n",
    "\n",
    "# Sparse matrix from a Bernoulli random variable\n",
    "# giving 1 with probability p and -1 with probability 1-p,\n",
    "# with p=0.5 (by default) with connectivity of 0.2\n",
    "# and fixed seed, in Numpy format.\n",
    "matrix = bernoulli(\n",
    "    10, 60, connectivity=0.2, sparsity_type=\"dense\")"
   ]
  },
  {
   "cell_type": "markdown",
   "id": "dc4b0989",
   "metadata": {
    "pycharm": {
     "name": "#%% md\n"
    }
   },
   "source": [
    "This functions can be tuned and integrated to any Node accepting initializer functions. In particular, they can be used to tune parameters distribution in a reservoir."
   ]
  },
  {
   "cell_type": "markdown",
   "id": "416f6269",
   "metadata": {
    "pycharm": {
     "name": "#%% md\n"
    }
   },
   "source": [
    "### From Numpy arrays or Scipy sparse matrices\n",
    "\n",
    "In addition to initializer functions, parameters can be initialized using Numpy arrays or Scipy sparse matrices of correct shape."
   ]
  },
  {
   "cell_type": "code",
   "execution_count": 21,
   "id": "441611b9",
   "metadata": {
    "pycharm": {
     "name": "#%%\n"
    }
   },
   "outputs": [],
   "source": [
    "from reservoirpy.nodes import Reservoir\n",
    "\n",
    "W_matrix = np.random.normal(0, 1, size=(100, 100))\n",
    "bias_vector = np.ones((100, 1))\n",
    "\n",
    "reservoir = Reservoir(W=W_matrix, bias=bias_vector)\n",
    "\n",
    "states = reservoir(X[0].reshape(1, -1))"
   ]
  },
  {
   "cell_type": "markdown",
   "id": "a496767f",
   "metadata": {
    "pycharm": {
     "name": "#%% md\n"
    }
   },
   "source": [
    "## Parallelization of ESN training/running\n",
    "\n",
    "Using the special node `reservoirpy.nodes.ESN`, it is possible to perform ESN offline training with ridge regression in a distributed way. We use `joblib` to exploit multiprocessing when computing node states over independent sequences of inputs.\n",
    "\n",
    "In the following example, we will consider a dataset made of 500 independent sequences of inputs (and their corresponding 500 sequences of target values). These sequences could be 500 independent spoken sentences, or audio files, or episodes of a robotic simulation. Here, they are all 1000 timesteps long, and are 50-dimensional. Targets sequences number and length need to match exactly those of inputs, but can have a different dimensionality. In the example below, they are 40-dimensional.\n",
    "\n",
    "In practice, the sequences or timeseries do not need to have the same length. If you have a dataset of multiple timeseries with different lengths, you can pass a list of numpy arrays of shape `(timesteps, dimensions)`."
   ]
  },
  {
   "cell_type": "code",
   "execution_count": 22,
   "id": "2defc84b",
   "metadata": {
    "pycharm": {
     "name": "#%%\n"
    }
   },
   "outputs": [
    {
     "name": "stdout",
     "output_type": "stream",
     "text": [
      "(500, 1000, 50) (500, 1000, 40)\n"
     ]
    }
   ],
   "source": [
    "X = np.array([[np.sin(np.linspace(0, 12*np.pi, 1000))\n",
    "               for j in range(50)]\n",
    "              for i in range(500)]).reshape(-1, 1000, 50)\n",
    "\n",
    "Y = np.array([[np.sin(np.linspace(0, 12*np.pi, 1000))\n",
    "               for j in range(40)]\n",
    "              for i in range(500)]).reshape(-1, 1000, 40)\n",
    "\n",
    "print(X.shape, Y.shape)"
   ]
  },
  {
   "cell_type": "markdown",
   "id": "9dd279b1",
   "metadata": {
    "pycharm": {
     "name": "#%% md\n"
    }
   },
   "source": [
    "An `reservoirpy.nodes.ESN` can be created from the standard `Reservoir` and `Ridge` nodes. Then, it acts as any other node in ReservoirPy, excepts it can not be integrated in a Model.\n",
    "\n",
    "We set the `workers` parameter of the ESN to `-1`, to enable parallelization over all available processes. You can also specify a number above 0 to restrain the number of processes used to train and run the node."
   ]
  },
  {
   "cell_type": "code",
   "execution_count": 23,
   "id": "70516903",
   "metadata": {
    "pycharm": {
     "name": "#%%\n"
    }
   },
   "outputs": [
    {
     "name": "stdout",
     "output_type": "stream",
     "text": [
      "Parallel (multiprocessing): 10.86 seconds\n",
      "Sequential: 68.41 seconds\n"
     ]
    }
   ],
   "source": [
    "from reservoirpy.nodes import Reservoir, Ridge, ESN\n",
    "import time\n",
    "\n",
    "reservoir = Reservoir(100, lr=0.3, sr=1.0)\n",
    "readout = Ridge(ridge=1e-6)\n",
    "\n",
    "esn = ESN(reservoir=reservoir, readout=readout, workers=-1)\n",
    "\n",
    "start = time.time()\n",
    "esn = esn.fit(X, Y)\n",
    "print(\"Parallel (multiprocessing):\",\n",
    "      \"{:.2f}\".format(time.time() - start), \"seconds\")\n",
    "\n",
    "esn = ESN(reservoir=reservoir, readout=readout, backend=\"sequential\")\n",
    "\n",
    "start = time.time()\n",
    "esn = esn.fit(X, Y)\n",
    "print(\"Sequential:\",\n",
    "      \"{:.2f}\".format(time.time() - start), \"seconds\")"
   ]
  },
  {
   "cell_type": "markdown",
   "id": "45b157dc",
   "metadata": {
    "pycharm": {
     "name": "#%% md\n"
    }
   },
   "source": [
    "## \"Deep\" architectures\n",
    "\n",
    "Nodes can be combined in any way to create deeper structure than just a reservoir and a readout.\n",
    "Connecting nodes together can be done by chaining the `>>` and the ``&`` operator.\n",
    "\n",
    "- The `>>` operator allows to compose nodes to form a chain model. Data flows from node to node in the chain.\n",
    "\n",
    "- The `&` operator allows to merge models together, to create parallel pathways. Merging two chains of nodes will create a new model containing all the nodes in the two chains along with all the connections between them.\n",
    "\n",
    "Below are examples of so called *deep echo state networks*, from schema to code, illustrating the use of these two operators. More extensive explanations about complex models can be found in the [From Nodes to Models](https://reservoirpy.readthedocs.io/en/latest/user_guide/model.html) documentation."
   ]
  },
  {
   "cell_type": "markdown",
   "id": "3e7ef3f9",
   "metadata": {
    "pycharm": {
     "name": "#%% md\n"
    }
   },
   "source": [
    "### Example 1 - Hierarchical ESN\n",
    "\n",
    "![Hierarchical ESN model](../_static/user_guide/tutorials/deep1.svg.png)"
   ]
  },
  {
   "cell_type": "code",
   "execution_count": 24,
   "id": "73677aa9",
   "metadata": {
    "pycharm": {
     "name": "#%%\n"
    }
   },
   "outputs": [],
   "source": [
    "from reservoirpy.nodes import Reservoir, Ridge, Input\n",
    "\n",
    "\n",
    "reservoir1 = Reservoir(100, name=\"res1-1\")\n",
    "reservoir2 = Reservoir(100, name=\"res2-1\")\n",
    "\n",
    "readout1 = Ridge(ridge=1e-5, name=\"readout1-1\")\n",
    "readout2 = Ridge(ridge=1e-5, name=\"readout2-1\")\n",
    "\n",
    "model = reservoir1 >> readout1 >> reservoir2 >> readout2"
   ]
  },
  {
   "cell_type": "markdown",
   "id": "93f44a1a",
   "metadata": {
    "pycharm": {
     "name": "#%% md\n"
    }
   },
   "source": [
    "This model can be trained by explicitly delivering targets to each readout using a dictionary:"
   ]
  },
  {
   "cell_type": "code",
   "execution_count": 25,
   "id": "5dc19b8d",
   "metadata": {
    "pycharm": {
     "name": "#%%\n"
    }
   },
   "outputs": [],
   "source": [
    "model = model.fit(X_train, {\"readout1-1\": Y_train, \"readout2-1\": Y_train})"
   ]
  },
  {
   "cell_type": "markdown",
   "id": "0c5152db",
   "metadata": {
    "pycharm": {
     "name": "#%% md\n"
    }
   },
   "source": [
    "### Example 2 - Deep ESN\n",
    "\n",
    "![Deep ESN model](../_static/user_guide/tutorials/deep2.svg.png)"
   ]
  },
  {
   "cell_type": "code",
   "execution_count": 26,
   "id": "420d2fc5",
   "metadata": {
    "pycharm": {
     "name": "#%%\n"
    }
   },
   "outputs": [],
   "source": [
    "from reservoirpy.nodes import Reservoir, Ridge, Input\n",
    "\n",
    "\n",
    "reservoir1 = Reservoir(100, name=\"res1-2\")\n",
    "reservoir2 = Reservoir(100, name=\"res2-2\")\n",
    "reservoir3 = Reservoir(100, name=\"res3-2\")\n",
    "\n",
    "readout = Ridge(name=\"readout-2\")\n",
    "\n",
    "model = reservoir1 >> reservoir2 >> reservoir3 & \\\n",
    "        data >> [reservoir1, reservoir2, reservoir3] >> readout"
   ]
  },
  {
   "cell_type": "markdown",
   "id": "10ef4554",
   "metadata": {
    "pycharm": {
     "name": "#%% md\n"
    }
   },
   "source": [
    "### Example 3 - Multi-inputs\n",
    "\n",
    "![Multi-inputs model](../_static/user_guide/tutorials/deep3.svg.png)"
   ]
  },
  {
   "cell_type": "code",
   "execution_count": 27,
   "id": "7ca0ecad",
   "metadata": {
    "pycharm": {
     "name": "#%%\n"
    }
   },
   "outputs": [],
   "source": [
    "from reservoirpy.nodes import Reservoir, Ridge, Input\n",
    "\n",
    "\n",
    "reservoir1 = Reservoir(100, name=\"res1-3\")\n",
    "reservoir2 = Reservoir(100, name=\"res2-3\")\n",
    "reservoir3 = Reservoir(100, name=\"res3-3\")\n",
    "\n",
    "readout1 = Ridge(name=\"readout2\")\n",
    "readout2 = Ridge(name=\"readout1\")\n",
    "\n",
    "model = [reservoir1, reservoir2] >> readout1 & \\\n",
    "        [reservoir2, reservoir3] >> readout2\n"
   ]
  }
 ],
 "metadata": {
  "kernelspec": {
   "display_name": "Python 3 (ipykernel)",
   "language": "python",
   "name": "python3"
  },
  "language_info": {
   "codemirror_mode": {
    "name": "ipython",
    "version": 3
   },
   "file_extension": ".py",
   "mimetype": "text/x-python",
   "name": "python",
   "nbconvert_exporter": "python",
   "pygments_lexer": "ipython3",
   "version": "3.8.10"
  }
 },
 "nbformat": 4,
 "nbformat_minor": 5
}
