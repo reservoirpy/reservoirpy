{
 "cells": [
  {
   "cell_type": "code",
   "execution_count": 12,
   "metadata": {},
   "outputs": [
    {
     "data": {
      "text/plain": [
       "0"
      ]
     },
     "execution_count": 12,
     "metadata": {},
     "output_type": "execute_result"
    }
   ],
   "source": [
    "from collections import defaultdict\n",
    "import matplotlib.pyplot as plt\n",
    "import numpy as np\n",
    "import warnings\n",
    "import sys\n",
    "sys.path.insert(0, '../')\n",
    "from reservoirpy.datasets import japanese_vowels\n",
    "from reservoirpy import set_seed, verbosity\n",
    "from reservoirpy.observables import nrmse, rsquare\n",
    "\n",
    "from sklearn.metrics import accuracy_score\n",
    "\n",
    "set_seed(42)\n",
    "verbosity(0)"
   ]
  },
  {
   "cell_type": "code",
   "execution_count": 13,
   "metadata": {},
   "outputs": [],
   "source": [
    "X_train, Y_train, X_test, Y_test = japanese_vowels()"
   ]
  },
  {
   "cell_type": "code",
   "execution_count": 14,
   "metadata": {},
   "outputs": [],
   "source": [
    "from reservoirpy.nodes import Reservoir, Ridge, Input, RidgeRegression, ElasticNet, Lasso"
   ]
  },
  {
   "cell_type": "code",
   "execution_count": 15,
   "metadata": {},
   "outputs": [],
   "source": [
    "source = Input()\n",
    "reservoir = Reservoir(500, sr=0.9, lr=0.1)\n",
    "scikit = True\n",
    "if scikit:\n",
    "    readout = ElasticNet(alpha=0.001)\n",
    "else:\n",
    "    readout = Ridge(ridge=1e-6)    \n",
    "\n",
    "model = source >> reservoir >> readout"
   ]
  },
  {
   "cell_type": "code",
   "execution_count": 16,
   "metadata": {},
   "outputs": [],
   "source": [
    "class ReduceTimesteps:\n",
    "    def reduce(self, states, reduce=None):\n",
    "        if reduce == 'mean':\n",
    "            states = np.mean(states, axis=0)\n",
    "        elif reduce == 'median':\n",
    "            states = np.median(states, axis=0)\n",
    "        elif reduce == 'peak':\n",
    "            magnitudes = np.sum(states, axis=1)\n",
    "            peak_pos = np.argmax(magnitudes)\n",
    "            states = states[peak_pos]\n",
    "        else:\n",
    "            raise ValueError(f\"reduce cannot be {reduce}. It must be 'mean','median' or 'peak'\")\n",
    "        return states\n",
    "    \n",
    "    def forward(self, X_train, window=None, reduce=None):\n",
    "        states_train = []\n",
    "        for x in X_train:\n",
    "            states = reservoir.run(x, reset=True)\n",
    "            if window != 'all':\n",
    "                states = states[-window:].squeeze()\n",
    "            if window != 1:\n",
    "                states = self.reduce(states, reduce=reduce)\n",
    "            states_train.append(states[None, :])\n",
    "        return states_train"
   ]
  },
  {
   "cell_type": "code",
   "execution_count": 28,
   "metadata": {},
   "outputs": [
    {
     "name": "stderr",
     "output_type": "stream",
     "text": [
      "/Users/deep/opt/miniconda3/envs/pytorch2/lib/python3.8/site-packages/sklearn/linear_model/_coordinate_descent.py:529: ConvergenceWarning: Objective did not converge. You might want to increase the number of iterations. Duality gap: 0.028147303106032417, tolerance: 0.0026666666666666666\n",
      "  model = cd_fast.enet_coordinate_descent(\n",
      "/Users/deep/opt/miniconda3/envs/pytorch2/lib/python3.8/site-packages/sklearn/linear_model/_coordinate_descent.py:529: ConvergenceWarning: Objective did not converge. You might want to increase the number of iterations. Duality gap: 0.01594786331027631, tolerance: 0.0026666666666666666\n",
      "  model = cd_fast.enet_coordinate_descent(\n",
      "/Users/deep/opt/miniconda3/envs/pytorch2/lib/python3.8/site-packages/sklearn/linear_model/_coordinate_descent.py:529: ConvergenceWarning: Objective did not converge. You might want to increase the number of iterations. Duality gap: 0.011721814821292753, tolerance: 0.0026666666666666657\n",
      "  model = cd_fast.enet_coordinate_descent(\n",
      "/Users/deep/opt/miniconda3/envs/pytorch2/lib/python3.8/site-packages/sklearn/linear_model/_coordinate_descent.py:529: ConvergenceWarning: Objective did not converge. You might want to increase the number of iterations. Duality gap: 0.00495990078826658, tolerance: 0.0026666666666666657\n",
      "  model = cd_fast.enet_coordinate_descent(\n",
      "/Users/deep/opt/miniconda3/envs/pytorch2/lib/python3.8/site-packages/sklearn/linear_model/_coordinate_descent.py:529: ConvergenceWarning: Objective did not converge. You might want to increase the number of iterations. Duality gap: 0.005775851139116384, tolerance: 0.0026666666666666657\n",
      "  model = cd_fast.enet_coordinate_descent(\n",
      "/Users/deep/opt/miniconda3/envs/pytorch2/lib/python3.8/site-packages/sklearn/linear_model/_coordinate_descent.py:529: ConvergenceWarning: Objective did not converge. You might want to increase the number of iterations. Duality gap: 0.018581984137510776, tolerance: 0.0026666666666666657\n",
      "  model = cd_fast.enet_coordinate_descent(\n",
      "/Users/deep/opt/miniconda3/envs/pytorch2/lib/python3.8/site-packages/sklearn/linear_model/_coordinate_descent.py:529: ConvergenceWarning: Objective did not converge. You might want to increase the number of iterations. Duality gap: 0.06152729586812988, tolerance: 0.0026666666666666657\n",
      "  model = cd_fast.enet_coordinate_descent(\n",
      "/Users/deep/opt/miniconda3/envs/pytorch2/lib/python3.8/site-packages/sklearn/linear_model/_coordinate_descent.py:529: ConvergenceWarning: Objective did not converge. You might want to increase the number of iterations. Duality gap: 0.003648497232262571, tolerance: 0.0026666666666666666\n",
      "  model = cd_fast.enet_coordinate_descent(\n"
     ]
    }
   ],
   "source": [
    "window = 5\n",
    "reduce = 'median'\n",
    "states_train = ReduceTimesteps().forward(X_train, window=window, reduce=reduce)\n",
    "if scikit:\n",
    "    readout.fit(np.array(states_train).squeeze(), np.array(Y_train).squeeze())\n",
    "else:\n",
    "    readout.fit(states_train, Y_train)"
   ]
  },
  {
   "cell_type": "code",
   "execution_count": 29,
   "metadata": {},
   "outputs": [
    {
     "data": {
      "text/plain": [
       "370"
      ]
     },
     "execution_count": 29,
     "metadata": {},
     "output_type": "execute_result"
    }
   ],
   "source": [
    "states_test = ReduceTimesteps().forward(X_test, window=window, reduce=reduce)\n",
    "Y_pred = []\n",
    "for state in states_test:\n",
    "    y = readout.run(state[-1, np.newaxis])\n",
    "    Y_pred.append(y)\n",
    "len(Y_pred)"
   ]
  },
  {
   "cell_type": "code",
   "execution_count": 30,
   "metadata": {},
   "outputs": [
    {
     "name": "stdout",
     "output_type": "stream",
     "text": [
      "Accuracy:  97.568 %\n"
     ]
    }
   ],
   "source": [
    "Y_pred_class = [np.argmax(y_p) for y_p in Y_pred]\n",
    "Y_test_class = [np.argmax(y_t) for y_t in Y_test]\n",
    "\n",
    "score = accuracy_score(Y_test_class, Y_pred_class)\n",
    "\n",
    "print(\"Accuracy: \", f\"{score * 100:.3f} %\")"
   ]
  },
  {
   "cell_type": "code",
   "execution_count": null,
   "metadata": {},
   "outputs": [],
   "source": []
  },
  {
   "cell_type": "code",
   "execution_count": null,
   "metadata": {},
   "outputs": [],
   "source": []
  }
 ],
 "metadata": {
  "kernelspec": {
   "display_name": "Python 3",
   "language": "python",
   "name": "python3"
  },
  "language_info": {
   "codemirror_mode": {
    "name": "ipython",
    "version": 3
   },
   "file_extension": ".py",
   "mimetype": "text/x-python",
   "name": "python",
   "nbconvert_exporter": "python",
   "pygments_lexer": "ipython3",
   "version": "3.8.10"
  }
 },
 "nbformat": 4,
 "nbformat_minor": 4
}
